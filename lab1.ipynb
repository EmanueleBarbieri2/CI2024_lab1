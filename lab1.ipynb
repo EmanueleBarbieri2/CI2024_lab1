{
 "cells": [
  {
   "cell_type": "markdown",
   "metadata": {},
   "source": [
    "# Lab 1"
   ]
  },
  {
   "cell_type": "code",
   "execution_count": 1,
   "metadata": {},
   "outputs": [],
   "source": [
    "from random import random, seed\n",
    "from itertools import product\n",
    "import numpy as np\n",
    "\n",
    "from icecream import ic"
   ]
  },
  {
   "cell_type": "markdown",
   "metadata": {},
   "source": [
    "## Reproducible initialization\n",
    "If you want to get reproducible results, use rng (and restart the kernel); for non-reproducible ones, use np.random."
   ]
  },
  {
   "cell_type": "markdown",
   "metadata": {},
   "source": [
    "### Instance 1"
   ]
  },
  {
   "cell_type": "code",
   "execution_count": 2,
   "metadata": {},
   "outputs": [],
   "source": [
    "UNIVERSE_SIZE = 100\n",
    "NUM_SETS = 10\n",
    "DENSITY = 0.2\n",
    "\n",
    "rng = np.random.Generator(np.random.PCG64([UNIVERSE_SIZE, NUM_SETS, int(10_000 * DENSITY)]))"
   ]
  },
  {
   "cell_type": "markdown",
   "metadata": {},
   "source": [
    "### Instance 2"
   ]
  },
  {
   "cell_type": "code",
   "execution_count": 2,
   "metadata": {},
   "outputs": [],
   "source": [
    "UNIVERSE_SIZE = 1000\n",
    "NUM_SETS = 100\n",
    "DENSITY = 0.2\n",
    "\n",
    "rng = np.random.Generator(np.random.PCG64([UNIVERSE_SIZE, NUM_SETS, int(10_000 * DENSITY)]))"
   ]
  },
  {
   "cell_type": "markdown",
   "metadata": {},
   "source": [
    "### Instance 3"
   ]
  },
  {
   "cell_type": "code",
   "execution_count": 2,
   "metadata": {},
   "outputs": [],
   "source": [
    "UNIVERSE_SIZE = 10000\n",
    "NUM_SETS = 1000\n",
    "DENSITY = 0.2\n",
    "\n",
    "rng = np.random.Generator(np.random.PCG64([UNIVERSE_SIZE, NUM_SETS, int(10_000 * DENSITY)]))"
   ]
  },
  {
   "cell_type": "markdown",
   "metadata": {},
   "source": [
    "### Instance 4"
   ]
  },
  {
   "cell_type": "code",
   "execution_count": 2,
   "metadata": {},
   "outputs": [],
   "source": [
    "UNIVERSE_SIZE = 100000\n",
    "NUM_SETS = 10000\n",
    "DENSITY = 0.1\n",
    "\n",
    "rng = np.random.Generator(np.random.PCG64([UNIVERSE_SIZE, NUM_SETS, int(10_000 * DENSITY)]))"
   ]
  },
  {
   "cell_type": "markdown",
   "metadata": {},
   "source": [
    "### Instance 5"
   ]
  },
  {
   "cell_type": "code",
   "execution_count": null,
   "metadata": {},
   "outputs": [],
   "source": [
    "UNIVERSE_SIZE = 100000\n",
    "NUM_SETS = 10000\n",
    "DENSITY = 0.2\n",
    "\n",
    "rng = np.random.Generator(np.random.PCG64([UNIVERSE_SIZE, NUM_SETS, int(10_000 * DENSITY)]))"
   ]
  },
  {
   "cell_type": "markdown",
   "metadata": {},
   "source": [
    "### Instance 6"
   ]
  },
  {
   "cell_type": "code",
   "execution_count": null,
   "metadata": {},
   "outputs": [],
   "source": [
    "UNIVERSE_SIZE = 100000\n",
    "NUM_SETS = 10000\n",
    "DENSITY = 0.3\n",
    "\n",
    "rng = np.random.Generator(np.random.PCG64([UNIVERSE_SIZE, NUM_SETS, int(10_000 * DENSITY)]))"
   ]
  },
  {
   "cell_type": "code",
   "execution_count": 3,
   "metadata": {},
   "outputs": [],
   "source": [
    "# DON'T EDIT THESE LINES!\n",
    "\n",
    "SETS = np.random.random((NUM_SETS, UNIVERSE_SIZE)) < DENSITY\n",
    "for s in range(UNIVERSE_SIZE):\n",
    "    if not np.any(SETS[:, s]):\n",
    "        SETS[np.random.randint(NUM_SETS), s] = True\n",
    "COSTS = np.power(SETS.sum(axis=1), 1.1)"
   ]
  },
  {
   "cell_type": "markdown",
   "metadata": {},
   "source": [
    "## Helper Functions"
   ]
  },
  {
   "cell_type": "code",
   "execution_count": 4,
   "metadata": {},
   "outputs": [],
   "source": [
    "def valid(solution):\n",
    "    \"\"\"Checks wether solution is valid (ie. covers all universe)\"\"\"\n",
    "    return np.all(np.logical_or.reduce(SETS[solution]))\n",
    "\n",
    "\n",
    "def cost(solution):\n",
    "    \"\"\"Returns the cost of a solution (to be minimized)\"\"\"\n",
    "    return COSTS[solution].sum()"
   ]
  },
  {
   "cell_type": "markdown",
   "metadata": {},
   "source": [
    "## Solution"
   ]
  },
  {
   "cell_type": "code",
   "execution_count": 5,
   "metadata": {},
   "outputs": [],
   "source": [
    "def tweak(solution: np.ndarray) -> np.ndarray:\n",
    "    new_sol = solution.copy()\n",
    "    i = rng.integers(0, NUM_SETS)\n",
    "    new_sol[i] = not new_sol[i]\n",
    "    return new_sol\n",
    "\n",
    "def fitness(solution: np.ndarray):\n",
    "    return -cost(solution)"
   ]
  },
  {
   "cell_type": "markdown",
   "metadata": {},
   "source": [
    "### Tabu search"
   ]
  },
  {
   "cell_type": "code",
   "execution_count": null,
   "metadata": {},
   "outputs": [],
   "source": [
    "MAX_TABS = 100\n",
    "MAX_STEPS = 100\n",
    "\n",
    "solution = np.random.random(NUM_SETS) < 1\n",
    "solution_fitness = fitness(solution)\n",
    "tabu_list = []\n",
    "\n",
    "for steps in range(MAX_STEPS):\n",
    "    neighbors = []\n",
    "    for _ in range(10):  \n",
    "        new_solution = tweak(solution)\n",
    "        if valid(new_solution):\n",
    "            neighbors.append(new_solution)\n",
    "    if not neighbors:  \n",
    "        continue\n",
    "    neighbors = sorted(neighbors, key=fitness, reverse=True)\n",
    "    best_neighbor = None\n",
    "    best_fitness = -UNIVERSE_SIZE\n",
    "\n",
    "    for neighbor in neighbors:\n",
    "        if any(np.array_equal(neighbor, t) for t in tabu_list):\n",
    "            continue \n",
    "        if fitness(neighbor) > best_fitness:\n",
    "            best_neighbor = neighbor\n",
    "            best_fitness = fitness(neighbor)\n",
    "\n",
    "    if best_neighbor is None: \n",
    "        for neighbor in neighbors:  \n",
    "            if fitness(neighbor) > solution_fitness:\n",
    "                best_neighbor = neighbor\n",
    "                best_fitness = fitness(neighbor)\n",
    "                break\n",
    "\n",
    "    if best_neighbor is not None and valid(best_neighbor):\n",
    "        solution = best_neighbor\n",
    "        solution_fitness = best_fitness\n",
    "\n",
    "        tabu_list.append(solution)\n",
    "        if len(tabu_list) > MAX_TABS:\n",
    "            tabu_list.pop(0) \n",
    "\n",
    "solution_fitness = fitness(solution)\n",
    "print(f\"Best fitness: {solution_fitness}, Valid: {valid(solution)}\")\n"
   ]
  }
 ],
 "metadata": {
  "kernelspec": {
   "display_name": "Python 3",
   "language": "python",
   "name": "python3"
  },
  "language_info": {
   "codemirror_mode": {
    "name": "ipython",
    "version": 3
   },
   "file_extension": ".py",
   "mimetype": "text/x-python",
   "name": "python",
   "nbconvert_exporter": "python",
   "pygments_lexer": "ipython3",
   "version": "3.9.6"
  }
 },
 "nbformat": 4,
 "nbformat_minor": 2
}
